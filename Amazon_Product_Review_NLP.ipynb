{
 "cells": [
  {
   "cell_type": "markdown",
   "metadata": {},
   "source": [
    "# Amazon Product Review NLP\n",
    "\n",
    "##### This is an excerpt from my group project materials for Machine Learning and Statistical Data Analysis (COSC 274). The goal of the project was to train a classifier to successfully predict an Amazon product's rating as \"awesome\" or not (defined as >4.5 stars) based upon its reviews. Project collaborators include YB Choi, Ji-Qing Chen, and Shan-Chang Lin.\n",
    "\n",
    "The project dataset is a collection of Toys and Games product reviews from Amazon and is not included in this repo because of its very large file size. You can retrieve this data from https://nijianmo.github.io/amazon/index.html"
   ]
  },
  {
   "cell_type": "markdown",
   "metadata": {},
   "source": [
    "### Import Statements"
   ]
  },
  {
   "cell_type": "code",
   "execution_count": 18,
   "metadata": {},
   "outputs": [
    {
     "name": "stderr",
     "output_type": "stream",
     "text": [
      "C:\\Users\\busch_000\\anaconda3\\lib\\site-packages\\tqdm\\std.py:668: FutureWarning: The Panel class is removed from pandas. Accessing it from the top-level namespace will also be removed in the next version\n",
      "  from pandas import Panel\n"
     ]
    }
   ],
   "source": [
    "import pandas as pd\n",
    "import numpy as np\n",
    "import nltk \n",
    "import nltk.corpus\n",
    "from nltk.tokenize import word_tokenize\n",
    "from nltk.tokenize import RegexpTokenizer\n",
    "import string\n",
    "from sklearn.feature_extraction.text import CountVectorizer, TfidfVectorizer\n",
    "from tqdm import tqdm\n",
    "tqdm.pandas()\n",
    "from nltk.corpus import stopwords\n",
    "from nltk.stem.snowball import SnowballStemmer\n",
    "from sklearn import preprocessing\n",
    "from sklearn.naive_bayes import MultinomialNB\n",
    "from sklearn.model_selection import train_test_split\n",
    "from sklearn import metrics\n",
    "import string\n",
    "from nltk import pos_tag\n",
    "from nltk.tokenize import TweetTokenizer\n",
    "import seaborn as sns\n",
    "from sklearn.metrics import roc_auc_score, roc_curve\n",
    "import matplotlib.pyplot as plt\n",
    "from matplotlib.pyplot import figure\n",
    "from sklearn.decomposition import PCA\n",
    "from sklearn.metrics import classification_report\n",
    "from sklearn.model_selection import cross_val_score\n",
    "from sklearn.metrics import confusion_matrix\n",
    "from sklearn.metrics import plot_confusion_matrix"
   ]
  },
  {
   "cell_type": "code",
   "execution_count": 4,
   "metadata": {},
   "outputs": [],
   "source": [
    "from sklearn.preprocessing import StandardScaler\n",
    "from sklearn.datasets import make_moons, make_circles, make_classification\n",
    "from sklearn.neural_network import MLPClassifier\n",
    "from sklearn.neighbors import KNeighborsClassifier\n",
    "from sklearn.svm import SVC\n",
    "from sklearn.gaussian_process import GaussianProcessClassifier\n",
    "from sklearn.gaussian_process.kernels import RBF\n",
    "from sklearn.tree import DecisionTreeClassifier\n",
    "from sklearn.ensemble import RandomForestClassifier, AdaBoostClassifier\n",
    "from sklearn.naive_bayes import GaussianNB\n",
    "from sklearn.discriminant_analysis import QuadraticDiscriminantAnalysis\n",
    "from sklearn.linear_model import Lasso, LogisticRegression\n",
    "from sklearn import metrics"
   ]
  },
  {
   "cell_type": "code",
   "execution_count": 3,
   "metadata": {},
   "outputs": [
    {
     "name": "stderr",
     "output_type": "stream",
     "text": [
      "[nltk_data] Downloading package words to\n",
      "[nltk_data]     C:\\Users\\busch_000\\AppData\\Roaming\\nltk_data...\n",
      "[nltk_data]   Package words is already up-to-date!\n",
      "[nltk_data] Downloading package stopwords to\n",
      "[nltk_data]     C:\\Users\\busch_000\\AppData\\Roaming\\nltk_data...\n",
      "[nltk_data]   Package stopwords is already up-to-date!\n"
     ]
    }
   ],
   "source": [
    "nltk.download('words')\n",
    "nltk.download('stopwords')\n",
    "words = nltk.corpus.words.words()\n",
    "sw = stopwords.words('english')"
   ]
  },
  {
   "cell_type": "markdown",
   "metadata": {},
   "source": [
    "## Pre-Processing Review Text\n",
    "First we clean the text of the reviews by removing stopwords, punctuation, words with numbers, and \"stem\" the words. We will train the classifier on both the cleaned and original review text for comparison later."
   ]
  },
  {
   "cell_type": "markdown",
   "metadata": {},
   "source": [
    "### Define functions for cleaning reviewtext"
   ]
  },
  {
   "cell_type": "code",
   "execution_count": 4,
   "metadata": {},
   "outputs": [],
   "source": [
    "def remove_stopwords(text):\n",
    "    # removes stop words and lowercases the selected words\n",
    "    text = [word.lower() for word in text.split() if word.lower() not in sw]\n",
    "    # joining the list of words with space separator\n",
    "    return \" \".join(text)"
   ]
  },
  {
   "cell_type": "code",
   "execution_count": 5,
   "metadata": {},
   "outputs": [],
   "source": [
    "def remove_punctuation(text):\n",
    "    # replace punctuations with no space, \n",
    "    translator = str.maketrans('', '', string.punctuation)\n",
    "    # return the text stripped of punctuation marks\n",
    "    return text.translate(translator)"
   ]
  },
  {
   "cell_type": "code",
   "execution_count": 6,
   "metadata": {},
   "outputs": [],
   "source": [
    "def remove_number_words(text):\n",
    "    # remove words that also have numbers\n",
    "    text = [word for word in text.split() if word.isalpha()]\n",
    "    # joining the list of words with space separator\n",
    "    return \" \".join(text)"
   ]
  },
  {
   "cell_type": "code",
   "execution_count": 7,
   "metadata": {},
   "outputs": [],
   "source": [
    "def stemming(text):    \n",
    "    #stems the words in the text\n",
    "    stemmer = SnowballStemmer(\"english\")\n",
    "    text = [stemmer.stem(word) for word in text.split()]\n",
    "    return \" \".join(text) "
   ]
  },
  {
   "cell_type": "markdown",
   "metadata": {},
   "source": [
    "### Load review data, clean the reviews, and save as .csv"
   ]
  },
  {
   "cell_type": "code",
   "execution_count": 20,
   "metadata": {},
   "outputs": [],
   "source": [
    "path_to_datasets = '' #please insert the path_to_dataset here\n",
    "#df = pd.read_json(path_to_datasets + 'Toys_and_Games_Ratings_training.json', lines=True)\n",
    "dft = pd.read_json('Toys_and_Games_Reviews_training.json', lines=True)"
   ]
  },
  {
   "cell_type": "code",
   "execution_count": 21,
   "metadata": {},
   "outputs": [],
   "source": [
    "#remove NaN's\n",
    "clean_df = dft[dft['reviewText'].notna()]\n",
    "df2 = clean_df[['asin', 'overall', 'reviewText', 'summary']]"
   ]
  },
  {
   "cell_type": "code",
   "execution_count": 26,
   "metadata": {},
   "outputs": [],
   "source": [
    "#Group reviews by product\n",
    "\n",
    "avg = df2[['asin', 'overall']].groupby('asin').mean()\n",
    "# assian traget=1 if averaged overall>4.5 and target=0 otherwise\n",
    "avg2 = avg.assign(\n",
    "    Target = lambda dataframe: dataframe['overall'].map(lambda overall: \"1\" if overall >4.5 else \"0\") \n",
    ")\n",
    "avg2 = avg2.rename_axis(\"asin\").reset_index()\n",
    "avg2.columns = ['asin','overall_avg', 'Target']\n",
    "\n",
    "# select coloumns\n",
    "df3 = df2[['asin', 'overall', 'reviewText', 'summary']]\n",
    "\n",
    "dft4 = df3.groupby('asin')['reviewText'].apply(' '.join).reset_index()\n",
    "# assign target to df2\n",
    "dft = dft4.merge(avg2, on = 'asin', how ='left')\n",
    "#add column for processed reviews\n",
    "clean_text = dft['reviewText']\n",
    "dft['CleanedText'] = clean_text"
   ]
  },
  {
   "cell_type": "code",
   "execution_count": 28,
   "metadata": {},
   "outputs": [
    {
     "name": "stderr",
     "output_type": "stream",
     "text": [
      "100%|█████████████████████████████████████████████████████████████████████████| 63017/63017 [00:03<00:00, 16343.80it/s]\n"
     ]
    }
   ],
   "source": [
    "#apply each function for cleaning reviews\n",
    "dft['CleanedText'] = dft['CleanedText'].progress_apply(remove_punctuation)"
   ]
  },
  {
   "cell_type": "code",
   "execution_count": 29,
   "metadata": {},
   "outputs": [
    {
     "name": "stderr",
     "output_type": "stream",
     "text": [
      "100%|███████████████████████████████████████████████████████████████████████████| 63017/63017 [03:10<00:00, 330.31it/s]\n"
     ]
    }
   ],
   "source": [
    "dft['CleanedText'] = dft['CleanedText'].progress_apply(remove_stopwords)"
   ]
  },
  {
   "cell_type": "code",
   "execution_count": 30,
   "metadata": {},
   "outputs": [
    {
     "name": "stderr",
     "output_type": "stream",
     "text": [
      "100%|██████████████████████████████████████████████████████████████████████████| 63017/63017 [00:11<00:00, 5719.90it/s]\n"
     ]
    }
   ],
   "source": [
    "dft['CleanedText'] = dft['CleanedText'].progress_apply(remove_number_words)"
   ]
  },
  {
   "cell_type": "code",
   "execution_count": 31,
   "metadata": {},
   "outputs": [
    {
     "name": "stderr",
     "output_type": "stream",
     "text": [
      "100%|████████████████████████████████████████████████████████████████████████████| 63017/63017 [16:57<00:00, 61.95it/s]\n"
     ]
    }
   ],
   "source": [
    "dft['CleanedText'] = dft['CleanedText'].progress_apply(stemming)"
   ]
  },
  {
   "cell_type": "code",
   "execution_count": 32,
   "metadata": {},
   "outputs": [],
   "source": [
    "dft.to_csv('dft.csv')"
   ]
  },
  {
   "cell_type": "markdown",
   "metadata": {},
   "source": [
    "### Load cleaned data once reviews are cleaned"
   ]
  },
  {
   "cell_type": "code",
   "execution_count": 5,
   "metadata": {
    "scrolled": true
   },
   "outputs": [
    {
     "data": {
      "text/html": [
       "<div>\n",
       "<style scoped>\n",
       "    .dataframe tbody tr th:only-of-type {\n",
       "        vertical-align: middle;\n",
       "    }\n",
       "\n",
       "    .dataframe tbody tr th {\n",
       "        vertical-align: top;\n",
       "    }\n",
       "\n",
       "    .dataframe thead th {\n",
       "        text-align: right;\n",
       "    }\n",
       "</style>\n",
       "<table border=\"1\" class=\"dataframe\">\n",
       "  <thead>\n",
       "    <tr style=\"text-align: right;\">\n",
       "      <th></th>\n",
       "      <th>Unnamed: 0</th>\n",
       "      <th>asin</th>\n",
       "      <th>reviewText</th>\n",
       "      <th>overall_avg</th>\n",
       "      <th>Target</th>\n",
       "      <th>CleanedText</th>\n",
       "    </tr>\n",
       "  </thead>\n",
       "  <tbody>\n",
       "    <tr>\n",
       "      <th>0</th>\n",
       "      <td>0</td>\n",
       "      <td>000254CDA01E5AE839E7EE3F6FC1D2F1</td>\n",
       "      <td>The child who recieved them opened the box and...</td>\n",
       "      <td>4.625000</td>\n",
       "      <td>1</td>\n",
       "      <td>child reciev open box thrill assum big hit got...</td>\n",
       "    </tr>\n",
       "    <tr>\n",
       "      <th>1</th>\n",
       "      <td>1</td>\n",
       "      <td>0002E81AED1B9840434EE28E39876BE4</td>\n",
       "      <td>Great gift for my special needs cousin Blocks ...</td>\n",
       "      <td>2.538462</td>\n",
       "      <td>0</td>\n",
       "      <td>great gift special need cousin block hardley m...</td>\n",
       "    </tr>\n",
       "    <tr>\n",
       "      <th>2</th>\n",
       "      <td>2</td>\n",
       "      <td>0003806D9BE7957D8AB9AF9EC04F52D0</td>\n",
       "      <td>I needed something to occupy kids indoors that...</td>\n",
       "      <td>5.000000</td>\n",
       "      <td>1</td>\n",
       "      <td>need someth occupi kid indoor electron bought ...</td>\n",
       "    </tr>\n",
       "    <tr>\n",
       "      <th>3</th>\n",
       "      <td>3</td>\n",
       "      <td>00049B538C925B3EF702FFF6FBD48DFE</td>\n",
       "      <td>This is a very nicely detailed and painted die...</td>\n",
       "      <td>4.625000</td>\n",
       "      <td>1</td>\n",
       "      <td>nice detail paint die cast version slave prett...</td>\n",
       "    </tr>\n",
       "    <tr>\n",
       "      <th>4</th>\n",
       "      <td>4</td>\n",
       "      <td>0004D0377FDC88F2DD349170E36324E7</td>\n",
       "      <td>Cute This bear is so cool and cute. The fabric...</td>\n",
       "      <td>5.000000</td>\n",
       "      <td>1</td>\n",
       "      <td>cute bear cool cute fabric soft one ear fold m...</td>\n",
       "    </tr>\n",
       "    <tr>\n",
       "      <th>5</th>\n",
       "      <td>5</td>\n",
       "      <td>000564E0025921626AF9AD7CE58C4DE9</td>\n",
       "      <td>Bought this for my almost three year old grand...</td>\n",
       "      <td>4.777778</td>\n",
       "      <td>1</td>\n",
       "      <td>bought almost three year old grandson crosbi l...</td>\n",
       "    </tr>\n",
       "    <tr>\n",
       "      <th>6</th>\n",
       "      <td>6</td>\n",
       "      <td>0006001B48B2A068D15FA5DF6A8D8120</td>\n",
       "      <td>Very fast and fun to watch, easy to use for a ...</td>\n",
       "      <td>4.400000</td>\n",
       "      <td>0</td>\n",
       "      <td>fast fun watch easi use littl one push button ...</td>\n",
       "    </tr>\n",
       "    <tr>\n",
       "      <th>7</th>\n",
       "      <td>7</td>\n",
       "      <td>00060723DBA4B273D9C4D8BBF00B472D</td>\n",
       "      <td>Bought for grandchildren for Christmas.  They ...</td>\n",
       "      <td>4.923077</td>\n",
       "      <td>1</td>\n",
       "      <td>bought grandchildren christma seem like parent...</td>\n",
       "    </tr>\n",
       "    <tr>\n",
       "      <th>8</th>\n",
       "      <td>8</td>\n",
       "      <td>0006215CD3B7AB524822EA4B03BF1D35</td>\n",
       "      <td>This is a fun game that will help you practice...</td>\n",
       "      <td>4.200000</td>\n",
       "      <td>0</td>\n",
       "      <td>fun game help practic win lot ticket arcad how...</td>\n",
       "    </tr>\n",
       "    <tr>\n",
       "      <th>9</th>\n",
       "      <td>9</td>\n",
       "      <td>0008B770C9308FC846F8F87ED244A2D6</td>\n",
       "      <td>My 4-year-old son has a Miyim bear that he lov...</td>\n",
       "      <td>3.400000</td>\n",
       "      <td>0</td>\n",
       "      <td>son miyim bear love hes pooh chapter book thou...</td>\n",
       "    </tr>\n",
       "  </tbody>\n",
       "</table>\n",
       "</div>"
      ],
      "text/plain": [
       "   Unnamed: 0                              asin  \\\n",
       "0           0  000254CDA01E5AE839E7EE3F6FC1D2F1   \n",
       "1           1  0002E81AED1B9840434EE28E39876BE4   \n",
       "2           2  0003806D9BE7957D8AB9AF9EC04F52D0   \n",
       "3           3  00049B538C925B3EF702FFF6FBD48DFE   \n",
       "4           4  0004D0377FDC88F2DD349170E36324E7   \n",
       "5           5  000564E0025921626AF9AD7CE58C4DE9   \n",
       "6           6  0006001B48B2A068D15FA5DF6A8D8120   \n",
       "7           7  00060723DBA4B273D9C4D8BBF00B472D   \n",
       "8           8  0006215CD3B7AB524822EA4B03BF1D35   \n",
       "9           9  0008B770C9308FC846F8F87ED244A2D6   \n",
       "\n",
       "                                          reviewText  overall_avg  Target  \\\n",
       "0  The child who recieved them opened the box and...     4.625000       1   \n",
       "1  Great gift for my special needs cousin Blocks ...     2.538462       0   \n",
       "2  I needed something to occupy kids indoors that...     5.000000       1   \n",
       "3  This is a very nicely detailed and painted die...     4.625000       1   \n",
       "4  Cute This bear is so cool and cute. The fabric...     5.000000       1   \n",
       "5  Bought this for my almost three year old grand...     4.777778       1   \n",
       "6  Very fast and fun to watch, easy to use for a ...     4.400000       0   \n",
       "7  Bought for grandchildren for Christmas.  They ...     4.923077       1   \n",
       "8  This is a fun game that will help you practice...     4.200000       0   \n",
       "9  My 4-year-old son has a Miyim bear that he lov...     3.400000       0   \n",
       "\n",
       "                                         CleanedText  \n",
       "0  child reciev open box thrill assum big hit got...  \n",
       "1  great gift special need cousin block hardley m...  \n",
       "2  need someth occupi kid indoor electron bought ...  \n",
       "3  nice detail paint die cast version slave prett...  \n",
       "4  cute bear cool cute fabric soft one ear fold m...  \n",
       "5  bought almost three year old grandson crosbi l...  \n",
       "6  fast fun watch easi use littl one push button ...  \n",
       "7  bought grandchildren christma seem like parent...  \n",
       "8  fun game help practic win lot ticket arcad how...  \n",
       "9  son miyim bear love hes pooh chapter book thou...  "
      ]
     },
     "execution_count": 5,
     "metadata": {},
     "output_type": "execute_result"
    }
   ],
   "source": [
    "dft = pd.read_csv('dft.csv')\n",
    "dft.head(10)"
   ]
  },
  {
   "cell_type": "code",
   "execution_count": 6,
   "metadata": {},
   "outputs": [],
   "source": [
    "#remove NaNs\n",
    "dft = dft[dft['reviewText'].notna()] "
   ]
  },
  {
   "cell_type": "markdown",
   "metadata": {},
   "source": [
    "## Check for class imbalance and visualize most frequent words"
   ]
  },
  {
   "cell_type": "markdown",
   "metadata": {},
   "source": [
    "check for class imbalance in target variable (whether product \"awesome\" or not)"
   ]
  },
  {
   "cell_type": "code",
   "execution_count": 35,
   "metadata": {},
   "outputs": [],
   "source": [
    "# create a count vectorizer object\n",
    "token = RegexpTokenizer(r'[a-zA-Z0-9]+')\n",
    "count_vectorizer = CountVectorizer(lowercase=True,stop_words='english',ngram_range = (2,2),tokenizer = token.tokenize)\n",
    "# fit the count vectorizer using the text data\n",
    "text_counts = count_vectorizer.fit_transform(dft['CleanedText'])\n",
    "# collect the vocabulary items used in the vectorizer\n",
    "dictionary = count_vectorizer.vocabulary_.items()  "
   ]
  },
  {
   "cell_type": "code",
   "execution_count": 36,
   "metadata": {},
   "outputs": [
    {
     "data": {
      "image/png": "[encoded data removed]",
      "text/plain": [
       "<Figure size 720x432 with 1 Axes>"
      ]
     },
     "metadata": {
      "needs_background": "light"
     },
     "output_type": "display_data"
    }
   ],
   "source": [
    "x=dft['Target'].value_counts()\n",
    "x=x.sort_index()\n",
    "plt.figure(figsize=(10,6))\n",
    "ax= sns.barplot(x.index, x.values, alpha=0.8)\n",
    "plt.title(\"Review Rating Distribution\")\n",
    "plt.ylabel('Count')\n",
    "plt.xlabel('Review Rating')\n",
    "rects = ax.patches\n",
    "labels = x.values\n",
    "for rect, label in zip(rects, labels):\n",
    "    height = rect.get_height()\n",
    "    ax.text(rect.get_x() + rect.get_width()/2, height + 5, label, ha='center', va='bottom')\n",
    "plt.show();"
   ]
  },
  {
   "cell_type": "markdown",
   "metadata": {},
   "source": [
    "notice how there are slightly more \"awesome\" products by rating than there are \"not awesome\" products"
   ]
  },
  {
   "cell_type": "markdown",
   "metadata": {},
   "source": [
    "visualize the most frequent stemmed words in the cleaned reviews"
   ]
  },
  {
   "cell_type": "code",
   "execution_count": 30,
   "metadata": {},
   "outputs": [
    {
     "data": {
      "text/plain": [
       "<matplotlib.axes._subplots.AxesSubplot at 0x7f9857607490>"
      ]
     },
     "execution_count": 30,
     "metadata": {},
     "output_type": "execute_result"
    },
    {
     "data": {
      "image/png": "[encoded data removed]",
      "text/plain": [
       "<Figure size 360x720 with 1 Axes>"
      ]
     },
     "metadata": {
      "needs_background": "light"
     },
     "output_type": "display_data"
    }
   ],
   "source": [
    "# lists to store the vocab and counts\n",
    "vocab = []\n",
    "count = []\n",
    "# iterate through each vocab and count append the value to designated lists\n",
    "for key, value in dictionary:\n",
    "    vocab.append(key)\n",
    "    count.append(value)\n",
    "# store the count in panadas dataframe with vocab as index\n",
    "freq= pd.Series((' '.join(dft['CleanedText']).split())).value_counts().sort_values(ascending = False)\n",
    "top_vacab = freq.head(20)\n",
    "top_vacab.plot(kind = 'barh', figsize=(5,10),xlim= (0,1000000))"
   ]
  },
  {
   "cell_type": "markdown",
   "metadata": {},
   "source": [
    "## Feature generation based on product reviews"
   ]
  },
  {
   "cell_type": "markdown",
   "metadata": {},
   "source": [
    "### Bag of Words feature generation\n",
    "\n",
    "The Bag of Words (BoW) model treats a sentence or document (in this case the aggregated reviews for each product) as a \"bag\" and each unique word in the document or sentence is added to the bag. The unique words are then counted for each bag. "
   ]
  },
  {
   "cell_type": "code",
   "execution_count": 11,
   "metadata": {},
   "outputs": [],
   "source": [
    "##for original review text\n",
    "# create a count vectorizer object\n",
    "token = RegexpTokenizer(r'[a-zA-Z]+')\n",
    "count_vectorizer = CountVectorizer(lowercase=True,stop_words='english',ngram_range = (1,1),tokenizer = token.tokenize)\n",
    "\n",
    "# fit the count vectorizer using the text data\n",
    "text_counts = count_vectorizer.fit_transform(dft['reviewText'])\n",
    "\n",
    "# words appear in documents.\n",
    "tokens = count_vectorizer.get_feature_names()\n",
    "#print(tokens)\n",
    "\n",
    "##repeat for cleaned review text\n",
    "# fit the count vectorizer using the text data\n",
    "text_counts_cleaned = count_vectorizer.fit_transform(dft['CleanedText'])\n",
    "\n",
    "# words appear in documents.\n",
    "tokens_cleaned = count_vectorizer.get_feature_names()\n",
    "#print(tokens)"
   ]
  },
  {
   "cell_type": "code",
   "execution_count": 12,
   "metadata": {},
   "outputs": [],
   "source": [
    "# split traning data and testing data for text counts from original reviews\n",
    "X_train, X_test, y_train, y_test = train_test_split(\n",
    "    text_counts, dft['Target'], test_size=0.2, random_state=1)\n",
    "\n",
    "# split traning data and testing data for text counts from cleaned reviews\n",
    "X_train2, X_test2, y_train2, y_test2 = train_test_split(\n",
    "    text_counts_cleaned, dft['Target'], test_size=0.2, random_state=1)"
   ]
  },
  {
   "cell_type": "markdown",
   "metadata": {},
   "source": [
    "### TF-IDF feature generation\n",
    "\n",
    "TF-IDF stands for term frequency inverse document frequency and is a statistical measure of how relavent a word is to a document in a corpus of documents (in this case aggregated reviews for all products in the dataset). The term frequency (TF) term captures the relative importance of terms to a document and the inverse document frequency (IDF) captures the relative rarity of a term in a document."
   ]
  },
  {
   "cell_type": "code",
   "execution_count": 13,
   "metadata": {},
   "outputs": [],
   "source": [
    "tf=TfidfVectorizer()\n",
    "text_tf= tf.fit_transform(dft['reviewText'])\n",
    "text_tf_cleaned= tf.fit_transform(dft['CleanedText'])"
   ]
  },
  {
   "cell_type": "code",
   "execution_count": 14,
   "metadata": {},
   "outputs": [],
   "source": [
    "# split traning data and testing data for text counts from original reviews\n",
    "X_train3, X_test3, y_train3, y_test3 = train_test_split(\n",
    "    text_tf, dft['Target'], test_size=0.2, random_state=1)\n",
    "\n",
    "# split traning data and testing data for text counts from cleaned reviews\n",
    "X_train4, X_test4, y_train4, y_test4 = train_test_split(\n",
    "    text_tf_cleaned, dft['Target'], test_size=0.2, random_state=1)"
   ]
  },
  {
   "cell_type": "markdown",
   "metadata": {},
   "source": [
    "## Training Classifiers\n",
    "\n",
    "each set of training data created above (for each feature I generated) is trained on three different classifiers: Multinomial Naive Bayes, Logistic Regression with a linear kernel, and a Random Forest."
   ]
  },
  {
   "cell_type": "markdown",
   "metadata": {},
   "source": [
    "### Multinomial NB"
   ]
  },
  {
   "cell_type": "code",
   "execution_count": 28,
   "metadata": {},
   "outputs": [
    {
     "name": "stdout",
     "output_type": "stream",
     "text": [
      "F1-score BoW original reviews: 0.76 (+/- 0.01)\n",
      "F1-score BoW cleaned reviews: 0.76 (+/- 0.01)\n",
      "F1-score TFIDF original reviews: 0.76 (+/- 0.01)\n",
      "F1-score TFIDF cleaned reviews: 0.76 (+/- 0.01)\n"
     ]
    }
   ],
   "source": [
    "clf_bow = MultinomialNB().fit(X_train, y_train)\n",
    "clf_clean_bow = MultinomialNB().fit(X_train2, y_train2)\n",
    "clf_tfidf = MultinomialNB().fit(X_train3, y_train3)\n",
    "clf_clean_tfidf = MultinomialNB().fit(X_train4, y_train4)\n",
    "\n",
    "probas1= clf_bow.predict_proba(X_test)\n",
    "probas2= clf_clean_bow.predict_proba(X_test2)\n",
    "probas3= clf_tfidf.predict_proba(X_test3)\n",
    "probas4= clf_clean_tfidf.predict_proba(X_test4)\n",
    "\n",
    "score = cross_val_score(clf_bow, X_train, y_train, cv=10, scoring='f1')\n",
    "print(\"F1-score BoW original reviews: %0.2f (+/- %0.2f)\" % (score.mean(), score.std() * 2))\n",
    "score2 = cross_val_score(clf_clean_bow, X_train2, y_train2, cv=10, scoring='f1')\n",
    "print(\"F1-score BoW cleaned reviews: %0.2f (+/- %0.2f)\" % (score2.mean(), score2.std() * 2))\n",
    "score3 = cross_val_score(clf_tfidf, X_train3, y_train3, cv=10, scoring='f1')\n",
    "print(\"F1-score TFIDF original reviews: %0.2f (+/- %0.2f)\" % (score3.mean(), score3.std() * 2))\n",
    "score4 = cross_val_score(clf_clean_tfidf, X_train4, y_train4, cv=10, scoring='f1')\n",
    "print(\"F1-score TFIDF cleaned reviews: %0.2f (+/- %0.2f)\" % (score4.mean(), score4.std() * 2))"
   ]
  },
  {
   "cell_type": "markdown",
   "metadata": {},
   "source": [
    "### Logistic Regression"
   ]
  },
  {
   "cell_type": "code",
   "execution_count": 29,
   "metadata": {},
   "outputs": [
    {
     "name": "stdout",
     "output_type": "stream",
     "text": [
      "F1-score BoW original reviews: 0.80 (+/- 0.02)\n",
      "F1-score BoW cleaned reviews: 0.80 (+/- 0.01)\n",
      "F1-score TFIDF original reviews: 0.83 (+/- 0.01)\n",
      "F1-score TFIDF cleaned reviews: 0.83 (+/- 0.01)\n"
     ]
    }
   ],
   "source": [
    "#Create a Classifier\n",
    "clf2_bow = LogisticRegression(C=1, penalty='l1', solver='liblinear').fit(X_train, y_train)\n",
    "clf2_clean_bow = LogisticRegression(C=1, penalty='l1', solver='liblinear').fit(X_train2, y_train2)\n",
    "clf2_tfidf = LogisticRegression(C=1, penalty='l1', solver='liblinear').fit(X_train3, y_train3)\n",
    "clf2_clean_tfidf = LogisticRegression(C=1, penalty='l1', solver='liblinear').fit(X_train4, y_train4)\n",
    "\n",
    "probas9= clf2_bow.predict_proba(X_test)\n",
    "probas10= clf2_clean_bow.predict_proba(X_test2)\n",
    "probas11= clf2_tfidf.predict_proba(X_test3)\n",
    "probas12= clf2_clean_tfidf.predict_proba(X_test4)\n",
    "\n",
    "score = cross_val_score(clf2_bow, X_train, y_train, cv=10, scoring='f1')\n",
    "print(\"F1-score BoW original reviews: %0.2f (+/- %0.2f)\" % (score.mean(), score.std() * 2))\n",
    "score2 = cross_val_score(clf2_clean_bow, X_train2, y_train2, cv=10, scoring='f1')\n",
    "print(\"F1-score BoW cleaned reviews: %0.2f (+/- %0.2f)\" % (score2.mean(), score2.std() * 2))\n",
    "score3 = cross_val_score(clf2_tfidf, X_train3, y_train3, cv=10, scoring='f1')\n",
    "print(\"F1-score TFIDF original reviews: %0.2f (+/- %0.2f)\" % (score3.mean(), score3.std() * 2))\n",
    "score4 = cross_val_score(clf2_clean_tfidf, X_train4, y_train4, cv=10, scoring='f1')\n",
    "print(\"F1-score TFIDF cleaned reviews: %0.2f (+/- %0.2f)\" % (score4.mean(), score4.std() * 2))"
   ]
  },
  {
   "cell_type": "markdown",
   "metadata": {},
   "source": [
    "### Random Forest"
   ]
  },
  {
   "cell_type": "code",
   "execution_count": 27,
   "metadata": {},
   "outputs": [
    {
     "name": "stdout",
     "output_type": "stream",
     "text": [
      "F1-score: 0.77 (+/- 0.01)\n",
      "F1-score: 0.77 (+/- 0.01)\n",
      "F1-score: 0.77 (+/- 0.01)\n",
      "F1-score: 0.77 (+/- 0.01)\n"
     ]
    }
   ],
   "source": [
    "clf3_bow = RandomForestClassifier(n_estimators=50, random_state=1).fit(X_train, y_train)\n",
    "clf3_clean_bow = RandomForestClassifier(n_estimators=50, random_state=1).fit(X_train2, y_train2)\n",
    "clf3_tfidf = RandomForestClassifier(n_estimators=50, random_state=1).fit(X_train3, y_train3)\n",
    "clf3_clean_tfidf = RandomForestClassifier(n_estimators=50, random_state=1).fit(X_train4, y_train4)\n",
    "\n",
    "probas5= clf3_bow.predict_proba(X_test)\n",
    "probas6= clf3_clean_bow.predict_proba(X_test2)\n",
    "probas7= clf3_tfidf.predict_proba(X_test3)\n",
    "probas8= clf3_clean_tfidf.predict_proba(X_test4)\n",
    "\n",
    "score = cross_val_score(clf3_bow, X_train, y_train, cv=10, scoring='f1')\n",
    "print(\"F1-score BoW original reviews: %0.2f (+/- %0.2f)\" % (score.mean(), score.std() * 2))\n",
    "score2 = cross_val_score(clf3_clean_bow, X_train2, y_train2, cv=10, scoring='f1')\n",
    "print(\"F1-score BoW cleaned reviews: %0.2f (+/- %0.2f)\" % (score2.mean(), score2.std() * 2))\n",
    "score3 = cross_val_score(clf3_tfidf, X_train3, y_train3, cv=10, scoring='f1')\n",
    "print(\"F1-score TFIDF original reviews: %0.2f (+/- %0.2f)\" % (score3.mean(), score3.std() * 2))\n",
    "score4 = cross_val_score(clf3_clean_tfidf, X_train4, y_train4, cv=10, scoring='f1')\n",
    "print(\"F1-score TFIDF cleaned reviews: %0.2f (+/- %0.2f)\" % (score4.mean(), score4.std() * 2))"
   ]
  },
  {
   "cell_type": "markdown",
   "metadata": {},
   "source": [
    "## Comparing classifier-feature combinations"
   ]
  },
  {
   "cell_type": "markdown",
   "metadata": {},
   "source": [
    "### ROC Curve for Comparison of Classifier-Feature Pairs\n",
    "\n",
    "The ROC curve plots the True Positive Rate on the y-axis and the False Positive Rate on the x-axis and is a visual way to compare the performance of different classifiers against one another. The more concave each ROC curve is towards the upper-left hand corner of the plot, the better the classifier performance."
   ]
  },
  {
   "cell_type": "code",
   "execution_count": 30,
   "metadata": {},
   "outputs": [
    {
     "data": {
      "image/png": "[encoded data removed]",
      "text/plain": [
       "<Figure size 720x720 with 1 Axes>"
      ]
     },
     "metadata": {
      "needs_background": "light"
     },
     "output_type": "display_data"
    }
   ],
   "source": [
    "f = plt.figure(figsize=[10,10]) \n",
    "plt.plot(roc_curve(y_test, probas1[:,1])[0], roc_curve(y_test, probas1[:,1])[1], label = 'NB BoW original reviews')\n",
    "plt.plot(roc_curve(y_test2, probas2[:,1])[0], roc_curve(y_test2, probas2[:,1])[1], label = 'NB BoW cleaned reviews')\n",
    "plt.plot(roc_curve(y_test3, probas3[:,1])[0], roc_curve(y_test3, probas3[:,1])[1], label = 'NB TFIDF original reviews')\n",
    "plt.plot(roc_curve(y_test4, probas4[:,1])[0], roc_curve(y_test4, probas4[:,1])[1], label = 'NB TFIDF cleaned reviews')\n",
    "\n",
    "plt.plot(roc_curve(y_test, probas9[:,1])[0], roc_curve(y_test, probas9[:,1])[1], label = 'Logit BoW original reviews')\n",
    "plt.plot(roc_curve(y_test2, probas10[:,1])[0], roc_curve(y_test2, probas10[:,1])[1], label = 'Logit BoW cleaned reviews')\n",
    "plt.plot(roc_curve(y_test3, probas11[:,1])[0], roc_curve(y_test3, probas11[:,1])[1], label = 'Logit TFIDF original reviews')\n",
    "plt.plot(roc_curve(y_test4, probas12[:,1])[0], roc_curve(y_test4, probas12[:,1])[1], label = 'Logit TFIDF cleaned reviews')\n",
    "\n",
    "plt.plot(roc_curve(y_test, probas5[:,1])[0], roc_curve(y_test, probas5[:,1])[1], label = 'RF BoW original reviews')\n",
    "plt.plot(roc_curve(y_test2, probas6[:,1])[0], roc_curve(y_test2, probas6[:,1])[1], label = 'RF BoW cleaned reviews')\n",
    "plt.plot(roc_curve(y_test3, probas7[:,1])[0], roc_curve(y_test3, probas7[:,1])[1], label = 'RF TFIDF original reviews')\n",
    "plt.plot(roc_curve(y_test4, probas8[:,1])[0], roc_curve(y_test4, probas8[:,1])[1], label = 'RF TFIDF cleaned reviews')\n",
    "\n",
    "plt.title('ROC Curve for Different Classifiers')\n",
    "plt.grid()\n",
    "plt.xlabel('False Positive Rate (1 - Specificity)')\n",
    "plt.ylabel('True Positive Rate (Sensitivity)')\n",
    "\n",
    "plt.legend(bbox_to_anchor=(1.0, .5))\n",
    "\n",
    "plt.show()\n",
    "\n"
   ]
  },
  {
   "cell_type": "markdown",
   "metadata": {},
   "source": [
    "the best performer is the TFIDF feature for the original (uncleaned) product reviews with the logistic regression classifier- 83% F1-score with 10-fold CV isn't bad!"
   ]
  },
  {
   "cell_type": "markdown",
   "metadata": {},
   "source": [
    "it's interesting that cleaning the reviews did not help classifier performance in any of the feature-classifier pairs..."
   ]
  },
  {
   "cell_type": "markdown",
   "metadata": {},
   "source": [
    "### Confusion Matrix for Best Model Prediction (TFIDF - Logistic Regression with original reviews)"
   ]
  },
  {
   "cell_type": "markdown",
   "metadata": {},
   "source": [
    "Resource: https://scikit-learn.org/stable/auto_examples/model_selection/plot_confusion_matrix.html"
   ]
  },
  {
   "cell_type": "code",
   "execution_count": 31,
   "metadata": {},
   "outputs": [
    {
     "name": "stdout",
     "output_type": "stream",
     "text": [
      "              precision    recall  f1-score   support\n",
      "\n",
      "           0       0.81      0.78      0.79      5774\n",
      "           1       0.82      0.84      0.83      6830\n",
      "\n",
      "    accuracy                           0.81     12604\n",
      "   macro avg       0.81      0.81      0.81     12604\n",
      "weighted avg       0.81      0.81      0.81     12604\n",
      "\n"
     ]
    }
   ],
   "source": [
    "clf2_tfidf = LogisticRegression(C=1, penalty='l1', solver='liblinear').fit(X_train3, y_train3)\n",
    "predict = clf2_tfidf.predict(X_test3)\n",
    "\n",
    "from sklearn.metrics import classification_report\n",
    "print(classification_report(y_test3,predict))"
   ]
  },
  {
   "cell_type": "code",
   "execution_count": 33,
   "metadata": {},
   "outputs": [
    {
     "name": "stdout",
     "output_type": "stream",
     "text": [
      "Confusion matrix, without normalization\n",
      "[[4490 1284]\n",
      " [1060 5770]]\n",
      "Normalized confusion matrix\n",
      "[[0.77762383 0.22237617]\n",
      " [0.15519766 0.84480234]]\n"
     ]
    },
    {
     "data": {
      "image/png": "[encoded data removed]",
      "text/plain": [
       "<Figure size 432x288 with 2 Axes>"
      ]
     },
     "metadata": {
      "needs_background": "light"
     },
     "output_type": "display_data"
    },
    {
     "data": {
      "image/png": "[encoded data removed]",
      "text/plain": [
       "<Figure size 432x288 with 2 Axes>"
      ]
     },
     "metadata": {
      "needs_background": "light"
     },
     "output_type": "display_data"
    }
   ],
   "source": [
    "# Plot non-normalized confusion matrix\n",
    "titles_options = [(\"Confusion matrix, without normalization\", None),\n",
    "                  (\"Normalized confusion matrix\", 'true')]\n",
    "for title, normalize in titles_options:\n",
    "    disp = plot_confusion_matrix(clf2_tfidf, X_test3, y_test3,\n",
    "                                 cmap=plt.cm.Blues,\n",
    "                                 normalize=normalize)\n",
    "    disp.ax_.set_title(title)\n",
    "\n",
    "    print(title)\n",
    "    print(disp.confusion_matrix)\n",
    "\n",
    "plt.show()"
   ]
  },
  {
   "cell_type": "markdown",
   "metadata": {},
   "source": [
    "Notice how the classifier predicts slightly better for \"awesome\" products (label=1) vs. \"not awesome\" products (label=0). This might have to do with the slight class imbalance seen from above"
   ]
  }
 ],
 "metadata": {
  "kernelspec": {
   "display_name": "Python 3",
   "language": "python",
   "name": "python3"
  },
  "language_info": {
   "codemirror_mode": {
    "name": "ipython",
    "version": 3
   },
   "file_extension": ".py",
   "mimetype": "text/x-python",
   "name": "python",
   "nbconvert_exporter": "python",
   "pygments_lexer": "ipython3",
   "version": "3.8.5"
  }
 },
 "nbformat": 4,
 "nbformat_minor": 4
}
